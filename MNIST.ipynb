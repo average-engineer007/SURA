{
  "nbformat": 4,
  "nbformat_minor": 0,
  "metadata": {
    "colab": {
      "provenance": []
    },
    "kernelspec": {
      "name": "python3",
      "display_name": "Python 3"
    },
    "language_info": {
      "name": "python"
    }
  },
  "cells": [
    {
      "cell_type": "code",
      "execution_count": 1,
      "metadata": {
        "colab": {
          "base_uri": "https://localhost:8080/"
        },
        "id": "im9aamQk5wbf",
        "outputId": "edacc068-5817-4f79-b1af-f9923c3195ce"
      },
      "outputs": [
        {
          "output_type": "stream",
          "name": "stdout",
          "text": [
            "Downloading data from https://storage.googleapis.com/tensorflow/tf-keras-datasets/mnist.npz\n",
            "11490434/11490434 [==============================] - 0s 0us/step\n",
            "Number of training images: 60000\n",
            "Number of test images: 10000\n",
            "(60000, 28, 28)\n",
            "(60000,)\n",
            "Model: \"sequential\"\n",
            "_________________________________________________________________\n",
            " Layer (type)                Output Shape              Param #   \n",
            "=================================================================\n",
            " flatten (Flatten)           (None, 784)               0         \n",
            "                                                                 \n",
            " dense (Dense)               (None, 16)                12560     \n",
            "                                                                 \n",
            " dense_1 (Dense)             (None, 16)                272       \n",
            "                                                                 \n",
            " dense_2 (Dense)             (None, 10)                170       \n",
            "                                                                 \n",
            "=================================================================\n",
            "Total params: 13002 (50.79 KB)\n",
            "Trainable params: 13002 (50.79 KB)\n",
            "Non-trainable params: 0 (0.00 Byte)\n",
            "_________________________________________________________________\n",
            "Epoch 1/10\n",
            "1500/1500 [==============================] - 5s 3ms/step - loss: 0.5441 - accuracy: 0.8410 - val_loss: 0.2653 - val_accuracy: 0.9258\n",
            "Epoch 2/10\n",
            "1500/1500 [==============================] - 5s 3ms/step - loss: 0.2549 - accuracy: 0.9266 - val_loss: 0.2386 - val_accuracy: 0.9319\n",
            "Epoch 3/10\n",
            "1500/1500 [==============================] - 7s 5ms/step - loss: 0.2165 - accuracy: 0.9371 - val_loss: 0.2042 - val_accuracy: 0.9419\n",
            "Epoch 4/10\n",
            "1500/1500 [==============================] - 7s 5ms/step - loss: 0.1936 - accuracy: 0.9433 - val_loss: 0.1932 - val_accuracy: 0.9455\n",
            "Epoch 5/10\n",
            "1500/1500 [==============================] - 6s 4ms/step - loss: 0.1775 - accuracy: 0.9490 - val_loss: 0.1939 - val_accuracy: 0.9450\n",
            "Epoch 6/10\n",
            "1500/1500 [==============================] - 4s 3ms/step - loss: 0.1668 - accuracy: 0.9514 - val_loss: 0.2008 - val_accuracy: 0.9429\n",
            "Epoch 7/10\n",
            "1500/1500 [==============================] - 6s 4ms/step - loss: 0.1570 - accuracy: 0.9531 - val_loss: 0.1788 - val_accuracy: 0.9498\n",
            "Epoch 8/10\n",
            "1500/1500 [==============================] - 4s 3ms/step - loss: 0.1482 - accuracy: 0.9549 - val_loss: 0.1795 - val_accuracy: 0.9502\n",
            "Epoch 9/10\n",
            "1500/1500 [==============================] - 4s 2ms/step - loss: 0.1415 - accuracy: 0.9572 - val_loss: 0.1757 - val_accuracy: 0.9498\n",
            "Epoch 10/10\n",
            "1500/1500 [==============================] - 5s 3ms/step - loss: 0.1344 - accuracy: 0.9593 - val_loss: 0.1713 - val_accuracy: 0.9528\n"
          ]
        }
      ],
      "source": [
        "import tensorflow as tf\n",
        "from tensorflow.keras.datasets import mnist\n",
        "import matplotlib.pyplot as plt\n",
        "import numpy as np\n",
        "from contextlib import redirect_stdout\n",
        "\n",
        "\n",
        "(x_train, y_train), (x_test, y_test) = mnist.load_data()\n",
        "\n",
        "print(\"Number of training images: \" + str(x_train.shape[0]))\n",
        "print(\"Number of test images: \" + str(x_test.shape[0]))\n",
        "\n",
        "print(x_train.shape)\n",
        "print(y_train.shape)\n",
        "\n",
        "x_train=x_train/255\n",
        "x_test=x_test/255\n",
        "\n",
        "\n",
        "neural_net = tf.keras.Sequential()\n",
        "neural_net.add(tf.keras.layers.Flatten(input_shape=(28,28)))\n",
        "neural_net.add(tf.keras.layers.Dense(16, activation='relu'))\n",
        "neural_net.add(tf.keras.layers.Dense(16, activation='relu'))\n",
        "neural_net.add(tf.keras.layers.Dense(10, activation='softmax'))\n",
        "\n",
        "neural_net.summary()\n",
        "\n",
        "neural_net.compile('adam', loss='categorical_crossentropy',metrics=['accuracy'])\n",
        "y_train = tf.keras.utils.to_categorical(y_train,num_classes=10)\n",
        "y_test = tf.keras.utils.to_categorical(y_test,num_classes=10)\n",
        "model_history = neural_net.fit(x_train, y_train,validation_split=.2,batch_size=32,epochs=10)"
      ]
    },
    {
      "cell_type": "code",
      "source": [
        "testing_index = 26\n",
        "input = x_train[testing_index]\n",
        "plt.imshow(input)\n",
        "plt.show()\n"
      ],
      "metadata": {
        "colab": {
          "base_uri": "https://localhost:8080/",
          "height": 430
        },
        "id": "1yDXHmdQ6XDL",
        "outputId": "cbf9a558-9574-4d87-fccb-6b6d6d636231"
      },
      "execution_count": 3,
      "outputs": [
        {
          "output_type": "display_data",
          "data": {
            "text/plain": [
              "<Figure size 640x480 with 1 Axes>"
            ],
            "image/png": "[encoded data removed]"
          },
          "metadata": {}
        }
      ]
    },
    {
      "cell_type": "code",
      "source": [
        "neural_net.save('sample1.h5')"
      ],
      "metadata": {
        "colab": {
          "base_uri": "https://localhost:8080/"
        },
        "id": "l6Q1lzwp6y1U",
        "outputId": "1da05fa1-99c4-422b-bc46-c2b56dce67bd"
      },
      "execution_count": 6,
      "outputs": [
        {
          "output_type": "stream",
          "name": "stderr",
          "text": [
            "/usr/local/lib/python3.10/dist-packages/keras/src/engine/training.py:3103: UserWarning: You are saving your model as an HDF5 file via `model.save()`. This file format is considered legacy. We recommend using instead the native Keras format, e.g. `model.save('my_model.keras')`.\n",
            "  saving_api.save_model(\n"
          ]
        }
      ]
    },
    {
      "cell_type": "code",
      "source": [
        "input_data = x_train[testing_index].reshape(1, 28, 28)\n",
        "x_train_testing_list = x_train[testing_index].flatten().tolist()\n",
        "\n",
        "def get_layer_outputs(model, input_data):\n",
        "    layer_outputs = [layer.output for layer in model.layers]\n",
        "    activation_model = tf.keras.models.Model(inputs=model.input, outputs=layer_outputs)\n",
        "    return activation_model.predict(input_data)\n",
        "\n",
        "layer_outputs = get_layer_outputs(neural_net, input_data)\n",
        "\n",
        "with open('predicted_result.txt', 'w') as file:\n",
        "    # Write the flattened input data to the file\n",
        "    file.write(f\"{x_train_testing_list}\\n\\n\")\n",
        "\n",
        "    # Write the layer outputs to the file\n",
        "    for layer_index, layer_output in enumerate(layer_outputs):\n",
        "        num_nodes = layer_output.shape[-1]\n",
        "        file.write(f\"Layer {layer_index + 1} output:\\n\")\n",
        "        for node_index in range(num_nodes):\n",
        "            file.write(f\"v_{layer_index + 1}_{node_index + 1}: {layer_output[0][node_index]}\\n\")\n",
        "        file.write(\"\\n\")"
      ],
      "metadata": {
        "colab": {
          "base_uri": "https://localhost:8080/"
        },
        "id": "nkeWNFStAjNU",
        "outputId": "4e8328aa-2fcb-4961-f68b-f094a92294f1"
      },
      "execution_count": 15,
      "outputs": [
        {
          "output_type": "stream",
          "name": "stdout",
          "text": [
            "1/1 [==============================] - 0s 132ms/step\n"
          ]
        }
      ]
    },
    {
      "cell_type": "code",
      "source": [
        "def parse_keras_model(file_path):\n",
        "    model = tf.keras.models.load_model(file_path)\n",
        "    print(\"Input shape:\", model.input_shape)\n",
        "    print(\"Output shape:\", model.output_shape)\n",
        "\n",
        "    input_shape = model.input_shape\n",
        "\n",
        "    dimensions = input_shape[1:]\n",
        "    first_layer_nodes = 1\n",
        "    for dim in dimensions:\n",
        "        first_layer_nodes *= dim\n",
        "    print(first_layer_nodes)\n",
        "\n",
        "\n",
        "    l = []\n",
        "    weights = []\n",
        "    biases = []\n",
        "    weights.append([])\n",
        "    for i in range(first_layer_nodes):\n",
        "        weights[0].append([])\n",
        "    biases.append([])\n",
        "\n",
        "    l.append(first_layer_nodes)\n",
        "\n",
        "    for layer in model.layers:\n",
        "        if isinstance(layer, tf.keras.layers.Dense):\n",
        "            l.append(layer.units)\n",
        "            weight_matrix = layer.get_weights()[0]\n",
        "            bias_vector = layer.get_weights()[1]\n",
        "            weights.append(weight_matrix.T.tolist())  # Transpose the weight matrix and convert to list\n",
        "            biases.append(bias_vector.tolist())\n",
        "\n",
        "    print(l)\n",
        "\n",
        "    n=len(l)\n",
        "    with open('neural_network_weights_biases.txt', 'w') as f:\n",
        "        f.write(f'n={n}\\n')\n",
        "        f.write(f'l={l}\\n')\n",
        "        f.write(\"weights=\")\n",
        "        f.write(str(weights) + '\\n')\n",
        "        f.write(\"biases=\")\n",
        "        f.write(str(biases) + '\\n')\n",
        "    return n,l, weights, biases\n",
        "\n",
        "\n",
        "file_path = 'sample1.h5'\n",
        "n,l, weights, biases = parse_keras_model(file_path)"
      ],
      "metadata": {
        "colab": {
          "base_uri": "https://localhost:8080/"
        },
        "id": "OhRkcdGH9fcH",
        "outputId": "b394ab05-d03f-4be1-c3b2-5fdaaf3ba642"
      },
      "execution_count": 13,
      "outputs": [
        {
          "output_type": "stream",
          "name": "stdout",
          "text": [
            "Input shape: (None, 28, 28)\n",
            "Output shape: (None, 10)\n",
            "784\n",
            "[784, 16, 16, 10]\n"
          ]
        }
      ]
    }
  ]
}